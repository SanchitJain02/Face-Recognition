{
 "cells": [
  {
   "cell_type": "code",
   "execution_count": 1,
   "id": "7070460d",
   "metadata": {},
   "outputs": [],
   "source": [
    "import cv2\n",
    "import face_recognition\n",
    "from simple_facerec import SimpleFacerec"
   ]
  },
  {
   "cell_type": "code",
   "execution_count": 2,
   "id": "54906fc5",
   "metadata": {},
   "outputs": [
    {
     "name": "stdout",
     "output_type": "stream",
     "text": [
      "2 encoding images found.\n",
      "Encoding images loaded\n"
     ]
    }
   ],
   "source": [
    "sfr = SimpleFacerec()\n",
    "sfr.load_encoding_images(\"train_images/\")     # Encode faces from a folder "
   ]
  },
  {
   "cell_type": "code",
   "execution_count": 6,
   "id": "4e314d8d",
   "metadata": {},
   "outputs": [],
   "source": [
    "cam = cv2.VideoCapture(0)                \n",
    "while True:\n",
    "    ret,frame = cam.read()\n",
    "    # Detect Faces\n",
    "    face_locations,face_names = sfr.detect_known_faces(frame)\n",
    "    for face_loc,name in zip(face_locations,face_names):\n",
    "        y1,x2,y2,x1 = face_loc[0],face_loc[1],face_loc[2],face_loc[3]\n",
    "        cv2.putText(frame,name,(x1,y1-10),cv2.FONT_HERSHEY_DUPLEX,1,(0,255,0),2)\n",
    "        cv2.rectangle(frame,(x1,y1),(x2,y2),(0,255,0),4)\n",
    "        \n",
    "    key = cv2.waitKey(1) & 0xFF\n",
    "    \n",
    "    if key==ord(\"q\"):\n",
    "        break\n",
    "    cv2.imshow(\"Face Recognition\",frame)\n",
    "            \n",
    "cam.release()\n",
    "cv2.destroyAllWindows()    "
   ]
  },
  {
   "cell_type": "code",
   "execution_count": null,
   "id": "1fc9b653",
   "metadata": {},
   "outputs": [],
   "source": []
  }
 ],
 "metadata": {
  "kernelspec": {
   "display_name": "Python 3",
   "language": "python",
   "name": "python3"
  },
  "language_info": {
   "codemirror_mode": {
    "name": "ipython",
    "version": 3
   },
   "file_extension": ".py",
   "mimetype": "text/x-python",
   "name": "python",
   "nbconvert_exporter": "python",
   "pygments_lexer": "ipython3",
   "version": "3.8.8"
  }
 },
 "nbformat": 4,
 "nbformat_minor": 5
}
